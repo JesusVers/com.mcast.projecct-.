{
 "cells": [
  {
   "cell_type": "code",
   "execution_count": 3,
   "metadata": {},
   "outputs": [],
   "source": [
    "# Package import\n",
    "\n",
    "import cv2\n",
    "import numpy as np\n",
    "import smtplib\n",
    "import playsound\n",
    "import threading"
   ]
  },
  {
   "cell_type": "code",
   "execution_count": 2,
   "metadata": {},
   "outputs": [],
   "source": [
    "# Sound alarm\n",
    "def play_alarm_sound_function():\n",
    "\twhile True:\n",
    "\t\tplaysound.playsound('./alarm-sound.mp3',True)"
   ]
  },
  {
   "cell_type": "code",
   "execution_count": 12,
   "metadata": {},
   "outputs": [],
   "source": [
    "# Send email\n",
    "def send_mail_function():\n",
    "\n",
    "    recipientEmail = \"jesus.cuschieri.a100878@mcast.edu.mt\"\n",
    "    recipientEmail = recipientEmail.lower()\n",
    "\n",
    "    try:\n",
    "        server = smtplib.SMTP('smtp.gmail.com', 587)\n",
    "        server.ehlo()\n",
    "        server.starttls()\n",
    "        server.login('jesuscuschieri@gmail.com', 'pomoma98')\n",
    "        server.sendmail('jesuscuschieri@gmail.com', recipientEmail, \"Warning A Fire Accident has been reported on Your Company\")\n",
    "        print(\"sent to {}\".format(recipientEmail))\n",
    "        server.close()\n",
    "    except Exception as e:\n",
    "    \tprint(e)\n"
   ]
  },
  {
   "cell_type": "code",
   "execution_count": 13,
   "metadata": {},
   "outputs": [
    {
     "name": "stdout",
     "output_type": "stream",
     "text": [
      "(535, b'5.7.8 Username and Password not accepted. Learn more at\\n5.7.8  https://support.google.com/mail/?p=BadCredentials lj6-20020a170906f9c600b008bbc9115038sm2449210ejb.56 - gsmtp')\n"
     ]
    }
   ],
   "source": [
    "#Variable declaration\n",
    "Alarm_Status = False\n",
    "Email_Status = False\n",
    "Fire_Reported = 0\n",
    "\n",
    "video = cv2.VideoCapture(\"./chair.mp4\") # If you want to use webcam use Index like 0,1.\n",
    "\n",
    "while True:\n",
    "    (grabbed, frame) = video.read()\n",
    "    if not grabbed:\n",
    "        break\n",
    "\n",
    "    frame = cv2.resize(frame, (960, 540))\n",
    "\n",
    "    blur = cv2.GaussianBlur(frame, (21, 21), 0)\n",
    "    hsv = cv2.cvtColor(blur, cv2.COLOR_BGR2HSV)\n",
    "\n",
    "    lower = [18, 50, 50]\n",
    "    upper = [35, 255, 255]\n",
    "    lower = np.array(lower, dtype=\"uint8\")\n",
    "    upper = np.array(upper, dtype=\"uint8\")\n",
    "\n",
    "    mask = cv2.inRange(hsv, lower, upper)\n",
    "\n",
    "    output = cv2.bitwise_and(frame, hsv, mask=mask)\n",
    "\n",
    "    no_red = cv2.countNonZero(mask)\n",
    "\n",
    "    if int(no_red) > 15000:\n",
    "        Fire_Reported = Fire_Reported + 1\n",
    "\n",
    "    cv2.imshow(\"output\", output)\n",
    "\n",
    "    if Fire_Reported >= 1:\n",
    "        \n",
    "        if Alarm_Status == False:\n",
    "            threading.Thread(target=play_alarm_sound_function).start()\n",
    "            Alarm_Status = True\n",
    "\n",
    "        if Email_Status == False:\n",
    "            threading.Thread(target=send_mail_function).start()\n",
    "            Email_Status = True\n",
    "\n",
    "    if cv2.waitKey(1) & 0xFF == ord('q'):\n",
    "        break\n",
    "\n",
    "cv2.destroyAllWindows()\n",
    "video.release()"
   ]
  }
 ],
 "metadata": {
  "kernelspec": {
   "display_name": "jesus-kernel",
   "language": "python",
   "name": "jesus-kernel"
  },
  "language_info": {
   "codemirror_mode": {
    "name": "ipython",
    "version": 3
   },
   "file_extension": ".py",
   "mimetype": "text/x-python",
   "name": "python",
   "nbconvert_exporter": "python",
   "pygments_lexer": "ipython3",
   "version": "3.10.4"
  },
  "orig_nbformat": 4
 },
 "nbformat": 4,
 "nbformat_minor": 2
}
