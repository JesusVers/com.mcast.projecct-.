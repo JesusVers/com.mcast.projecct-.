{
 "cells": [
  {
   "cell_type": "code",
   "execution_count": 1,
   "metadata": {},
   "outputs": [],
   "source": [
    "# Package import\n",
    "\n",
    "import cv2\n",
    "import numpy as np\n",
    "import smtplib\n",
    "import playsound\n",
    "import threading"
   ]
  },
  {
   "cell_type": "code",
   "execution_count": 2,
   "metadata": {},
   "outputs": [],
   "source": [
    "# Sound alarm\n",
    "def play_alarm_sound_function():\n",
    "\twhile True:\n",
    "\t\tplaysound.playsound('./alarm-sound.mp3',True)"
   ]
  },
  {
   "cell_type": "code",
   "execution_count": 3,
   "metadata": {},
   "outputs": [],
   "source": [
    "# Send email\n",
    "def send_mail_function():\n",
    "\n",
    "    recipientEmail = \"cuscjesus@gmail.com\"\n",
    "    recipientEmail = recipientEmail.lower()\n",
    "\n",
    "    try:\n",
    "        server = smtplib.SMTP('smtp.gmail.com', 587)\n",
    "        server.ehlo()\n",
    "        server.starttls()\n",
    "        server.login('cuscjesus@gmail.com', 'Pa$$word123')\n",
    "        server.sendmail('cuscjesus@gmail.com', recipientEmail, \"Warning A Fire Accident has been reported on Your Company\")\n",
    "        print(\"sent to {}\".format(recipientEmail))\n",
    "        server.close()\n",
    "    except Exception as e:\n",
    "    \tprint(e)\n"
   ]
  },
  {
   "cell_type": "code",
   "execution_count": 47,
   "metadata": {},
   "outputs": [],
   "source": [
    "#Variable declaration\n",
    "Alarm_Status = False\n",
    "Email_Status = False\n",
    "Fire_Reported = 0\n",
    "\n",
    "video = cv2.VideoCapture(\"./swing.mp4\") # If you want to use webcam use Index like 0,1.\n",
    "\n",
    "while True:\n",
    "    (grabbed, frame) = video.read()\n",
    "    if not grabbed:\n",
    "        break\n",
    "\n",
    "    frame = cv2.resize(frame, (960, 540))\n",
    "    frame = cv2.flip(frame, 1)\n",
    "\n",
    "    blur = cv2.GaussianBlur(frame, (7, 7), 0)\n",
    "    hsv = cv2.cvtColor(blur, cv2.COLOR_BGR2HSV)\n",
    "\n",
    "    lower = [11, 33, 111]\n",
    "    upper = [90, 255, 255]\n",
    "    lower = np.array(lower, dtype=\"uint8\")\n",
    "    upper = np.array(upper, dtype=\"uint8\")\n",
    "\n",
    "    mask = cv2.inRange(hsv, lower, upper)\n",
    "\n",
    "    output = cv2.bitwise_and(frame, hsv, mask=mask)\n",
    "\n",
    "    no_red = cv2.countNonZero(mask)\n",
    "\n",
    "    if int(no_red) > 20000:\n",
    "        Fire_Reported = Fire_Reported + 1\n",
    "\n",
    "    cv2.imshow(\"output\", output)\n",
    "\n",
    "    if Fire_Reported >= 1:\n",
    "        \n",
    "        if Alarm_Status == False:\n",
    "            print(\"fire\")\n",
    "            #threading.Thread(target=play_alarm_sound_function).start()\n",
    "            Alarm_Status = True\n",
    "\n",
    "        if Email_Status == False:\n",
    "            #threading.Thread(target=send_mail_function).start()\n",
    "            Email_Status = True\n",
    "\n",
    "    if cv2.waitKey(1) & 0xFF == ord('q'):\n",
    "        break\n",
    "\n",
    "cv2.destroyAllWindows()\n",
    "video.release()"
   ]
  }
 ],
 "metadata": {
  "kernelspec": {
   "display_name": "jesus-kernel",
   "language": "python",
   "name": "jesus-kernel"
  },
  "language_info": {
   "codemirror_mode": {
    "name": "ipython",
    "version": 3
   },
   "file_extension": ".py",
   "mimetype": "text/x-python",
   "name": "python",
   "nbconvert_exporter": "python",
   "pygments_lexer": "ipython3",
   "version": "3.10.4"
  },
  "orig_nbformat": 4
 },
 "nbformat": 4,
 "nbformat_minor": 2
}
